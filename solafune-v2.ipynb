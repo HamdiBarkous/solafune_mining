{
 "cells": [
  {
   "cell_type": "code",
   "execution_count": 1,
   "metadata": {
    "execution": {
     "iopub.execute_input": "2024-04-14T15:35:10.345816Z",
     "iopub.status.busy": "2024-04-14T15:35:10.345078Z",
     "iopub.status.idle": "2024-04-14T15:35:26.360483Z",
     "shell.execute_reply": "2024-04-14T15:35:26.359090Z",
     "shell.execute_reply.started": "2024-04-14T15:35:10.345785Z"
    },
    "id": "M8WVasaeSukq"
   },
   "outputs": [],
   "source": [
    "!pip install albumentations warmup_scheduler scikit-learn pandas matplotlib timm rasterio -q"
   ]
  },
  {
   "cell_type": "markdown",
   "metadata": {
    "id": "2beVwyoXqi2n"
   },
   "source": [
    "## Imports"
   ]
  },
  {
   "cell_type": "code",
   "execution_count": 2,
   "metadata": {
    "execution": {
     "iopub.execute_input": "2024-04-14T15:35:26.363507Z",
     "iopub.status.busy": "2024-04-14T15:35:26.363084Z",
     "iopub.status.idle": "2024-04-14T15:35:35.872915Z",
     "shell.execute_reply": "2024-04-14T15:35:35.872088Z",
     "shell.execute_reply.started": "2024-04-14T15:35:26.363465Z"
    },
    "id": "LYCoy1wfqiNZ"
   },
   "outputs": [],
   "source": [
    "from sklearn.metrics import roc_auc_score, accuracy_score, f1_score, log_loss\n",
    "import pickle\n",
    "from torch.utils.data import DataLoader\n",
    "from torch.cuda.amp import autocast, GradScaler\n",
    "import warnings\n",
    "import sys\n",
    "import pandas as pd\n",
    "import os\n",
    "import gc\n",
    "import sys\n",
    "import math\n",
    "import time\n",
    "import random\n",
    "import shutil\n",
    "from pathlib import Path\n",
    "from contextlib import contextmanager\n",
    "from collections import defaultdict, Counter\n",
    "import cv2\n",
    "\n",
    "import warnings\n",
    "warnings.filterwarnings('ignore')\n",
    "import scipy as sp\n",
    "import numpy as np\n",
    "import pandas as pd\n",
    "\n",
    "import matplotlib.pyplot as plt\n",
    "from tqdm.auto import tqdm\n",
    "from functools import partial\n",
    "\n",
    "import argparse\n",
    "import importlib\n",
    "import torch\n",
    "import torch.nn as nn\n",
    "from torch.optim import AdamW\n",
    "import torch.nn.functional as F\n",
    "\n",
    "import datetime\n",
    "import timm\n",
    "import rasterio"
   ]
  },
  {
   "cell_type": "markdown",
   "metadata": {
    "id": "ktgYZ4yqrBub"
   },
   "source": [
    "## CFG"
   ]
  },
  {
   "cell_type": "code",
   "execution_count": 3,
   "metadata": {
    "colab": {
     "base_uri": "https://localhost:8080/"
    },
    "execution": {
     "iopub.execute_input": "2024-04-14T15:35:35.874443Z",
     "iopub.status.busy": "2024-04-14T15:35:35.874022Z",
     "iopub.status.idle": "2024-04-14T15:35:36.109220Z",
     "shell.execute_reply": "2024-04-14T15:35:36.108302Z",
     "shell.execute_reply.started": "2024-04-14T15:35:35.874420Z"
    },
    "id": "Jm6SPt3RrDbC",
    "outputId": "2843c3c2-d5bf-4d66-cb67-07abe28046b1"
   },
   "outputs": [
    {
     "name": "stdout",
     "output_type": "stream",
     "text": [
      "set dataset path\n"
     ]
    }
   ],
   "source": [
    "import os\n",
    "import albumentations as A\n",
    "from albumentations.pytorch import ToTensorV2\n",
    "\n",
    "class CFG:\n",
    "    # ============== comp exp name =============\n",
    "    comp_name = 'solafune'\n",
    "\n",
    "    # comp_dir_path = './'\n",
    "    comp_dir_path = 'input'\n",
    "    comp_folder_name = ''\n",
    "    comp_dataset_path = f'{comp_dir_path}{comp_folder_name}/'\n",
    "\n",
    "    exp_name = 'exp1'\n",
    "\n",
    "    # ============== pred target =============\n",
    "    target_size = 1\n",
    "    targets = 'class'\n",
    "\n",
    "    # ============== model cfg =============\n",
    "    model_name = 'xcit'\n",
    "    backbone = 'seresnet50'\n",
    "    num_classes = 1\n",
    "\n",
    "    in_chans = 3\n",
    "    # ============== training cfg =============\n",
    "    img_size = 224\n",
    "\n",
    "    train_batch_size = 8\n",
    "    valid_batch_size = 2\n",
    "    use_amp = True\n",
    "\n",
    "    scheduler = 'GradualWarmupSchedulerV2'\n",
    "    epochs = 30 # 30\n",
    "\n",
    "    # adamW warmup\n",
    "    warmup_factor = 10\n",
    "    lr = 3e-4 / warmup_factor\n",
    "\n",
    "    # ============== fold =============\n",
    "    metric_direction = 'maximize'  # maximize, 'minimize'\n",
    "\n",
    "    # ============== fixed =============\n",
    "    pretrained = True\n",
    "    inf_weight = 'best'  # 'best'\n",
    "\n",
    "    min_lr = 1e-6\n",
    "    weight_decay = 1e-6\n",
    "    max_grad_norm = 1000\n",
    "    num_workers = os.cpu_count()\n",
    "\n",
    "    seed = 42\n",
    "\n",
    "    # ============== set dataset path =============\n",
    "    print('set dataset path')\n",
    "\n",
    "    outputs_path = f'outputs/{comp_name}/{exp_name}/'\n",
    "\n",
    "    submission_dir = outputs_path + 'submissions/'\n",
    "    submission_path = submission_dir + f'submission_{exp_name}.csv'\n",
    "\n",
    "    model_dir = outputs_path + \\\n",
    "        f'{comp_name}-models/'\n",
    "\n",
    "    figures_dir = outputs_path + 'figures/'\n",
    "\n",
    "    log_dir = outputs_path + 'logs/'\n",
    "    log_path = log_dir + f'{exp_name}.txt'\n",
    "\n",
    "    # ============== augmentation =============\n",
    "    train_aug_list = [\n",
    "\n",
    "        #A.Resize(img_size, img_size),\n",
    "        A.HorizontalFlip(p=0.5),\n",
    "        A.VerticalFlip(p=0.5),\n",
    "        A.Transpose(p=0.5),\n",
    "        A.RandomBrightnessContrast(p=0.3),\n",
    "        ToTensorV2(),\n",
    "    ]\n",
    "\n",
    "    valid_aug_list = [\n",
    "        #A.Resize(img_size, img_size),\n",
    "        ToTensorV2(),\n",
    "    ]\n",
    "    TTA=True"
   ]
  },
  {
   "cell_type": "markdown",
   "metadata": {
    "id": "mlnQjRVGq1RE"
   },
   "source": [
    "## Utils"
   ]
  },
  {
   "cell_type": "code",
   "execution_count": 4,
   "metadata": {
    "execution": {
     "iopub.execute_input": "2024-04-14T15:35:36.112693Z",
     "iopub.status.busy": "2024-04-14T15:35:36.111974Z",
     "iopub.status.idle": "2024-04-14T15:35:36.118834Z",
     "shell.execute_reply": "2024-04-14T15:35:36.117840Z",
     "shell.execute_reply.started": "2024-04-14T15:35:36.112666Z"
    },
    "id": "eU3YFw9Zq1Bo"
   },
   "outputs": [],
   "source": [
    "class AverageMeter(object):\n",
    "    \"\"\"Computes and stores the average and current value\"\"\"\n",
    "\n",
    "    def __init__(self):\n",
    "        self.reset()\n",
    "\n",
    "    def reset(self):\n",
    "        self.val = 0\n",
    "        self.avg = 0\n",
    "        self.sum = 0\n",
    "        self.count = 0\n",
    "\n",
    "    def update(self, val, n=1):\n",
    "        self.val = val\n",
    "        self.sum += val * n\n",
    "        self.count += n\n",
    "        self.avg = self.sum / self.count"
   ]
  },
  {
   "cell_type": "code",
   "execution_count": 5,
   "metadata": {
    "execution": {
     "iopub.execute_input": "2024-04-14T15:35:36.120363Z",
     "iopub.status.busy": "2024-04-14T15:35:36.120034Z",
     "iopub.status.idle": "2024-04-14T15:35:36.135829Z",
     "shell.execute_reply": "2024-04-14T15:35:36.134876Z",
     "shell.execute_reply.started": "2024-04-14T15:35:36.120331Z"
    },
    "id": "Cr99iROZq5ZG"
   },
   "outputs": [],
   "source": [
    "def init_logger(log_file):\n",
    "    from logging import getLogger, INFO, StreamHandler, Formatter\n",
    "    logger = getLogger(__name__)\n",
    "    logger.setLevel(INFO)\n",
    "    handler = StreamHandler()\n",
    "    handler.setFormatter(Formatter(\"%(message)s\"))\n",
    "    logger.addHandler(handler)\n",
    "    return logger\n",
    "\n",
    "\n",
    "def set_seed(seed=None, cudnn_deterministic=True):\n",
    "    if seed is None:\n",
    "        seed = 42\n",
    "\n",
    "    os.environ['PYTHONHASHSEED'] = str(seed)\n",
    "    np.random.seed(seed)\n",
    "    random.seed(seed)\n",
    "    torch.manual_seed(seed)\n",
    "    torch.cuda.manual_seed(seed)\n",
    "    torch.backends.cudnn.deterministic = cudnn_deterministic\n",
    "    torch.backends.cudnn.benchmark = False"
   ]
  },
  {
   "cell_type": "code",
   "execution_count": 6,
   "metadata": {
    "execution": {
     "iopub.execute_input": "2024-04-14T15:35:36.137235Z",
     "iopub.status.busy": "2024-04-14T15:35:36.136835Z",
     "iopub.status.idle": "2024-04-14T15:35:36.146520Z",
     "shell.execute_reply": "2024-04-14T15:35:36.145640Z",
     "shell.execute_reply.started": "2024-04-14T15:35:36.137210Z"
    },
    "id": "cutjKLEFq7qc"
   },
   "outputs": [],
   "source": [
    "def make_dirs(cfg):\n",
    "    for dir in [cfg.model_dir, cfg.figures_dir, cfg.submission_dir, cfg.log_dir]:\n",
    "        os.makedirs(dir, exist_ok=True)"
   ]
  },
  {
   "cell_type": "code",
   "execution_count": 7,
   "metadata": {
    "execution": {
     "iopub.execute_input": "2024-04-14T15:35:36.147798Z",
     "iopub.status.busy": "2024-04-14T15:35:36.147543Z",
     "iopub.status.idle": "2024-04-14T15:35:36.157692Z",
     "shell.execute_reply": "2024-04-14T15:35:36.156853Z",
     "shell.execute_reply.started": "2024-04-14T15:35:36.147776Z"
    },
    "id": "2zM45NQFq9cd"
   },
   "outputs": [],
   "source": [
    "def cfg_init(cfg, mode='train'):\n",
    "    set_seed(cfg.seed)\n",
    "    # set_env_name()\n",
    "    # set_dataset_path(cfg)\n",
    "\n",
    "    if mode == 'train':\n",
    "        make_dirs(cfg)"
   ]
  },
  {
   "cell_type": "code",
   "execution_count": 8,
   "metadata": {
    "colab": {
     "base_uri": "https://localhost:8080/"
    },
    "execution": {
     "iopub.execute_input": "2024-04-14T15:35:36.159455Z",
     "iopub.status.busy": "2024-04-14T15:35:36.158872Z",
     "iopub.status.idle": "2024-04-14T15:35:36.200628Z",
     "shell.execute_reply": "2024-04-14T15:35:36.199724Z",
     "shell.execute_reply.started": "2024-04-14T15:35:36.159424Z"
    },
    "id": "iAf4o059q_Cv",
    "outputId": "579e433d-2a93-4ae6-deb7-30aaf1afddd1"
   },
   "outputs": [
    {
     "name": "stderr",
     "output_type": "stream",
     "text": [
      "\n",
      "\n",
      "-------- exp_info -----------------\n"
     ]
    }
   ],
   "source": [
    "cfg_init(CFG)\n",
    "\n",
    "device = torch.device('cuda' if torch.cuda.is_available() else 'cpu')\n",
    "\n",
    "Logger = init_logger(log_file=CFG.log_path)\n",
    "\n",
    "Logger.info('\\n\\n-------- exp_info -----------------')\n",
    "# Logger.info(datetime.datetime.now().strftime('%Y年%m月%d日 %H:%M:%S'))"
   ]
  },
  {
   "cell_type": "markdown",
   "metadata": {},
   "source": [
    "## FE"
   ]
  },
  {
   "cell_type": "code",
   "execution_count": 9,
   "metadata": {
    "execution": {
     "iopub.execute_input": "2024-04-14T15:35:36.201829Z",
     "iopub.status.busy": "2024-04-14T15:35:36.201587Z",
     "iopub.status.idle": "2024-04-14T15:35:36.210672Z",
     "shell.execute_reply": "2024-04-14T15:35:36.209751Z",
     "shell.execute_reply.started": "2024-04-14T15:35:36.201806Z"
    }
   },
   "outputs": [],
   "source": [
    "def feature_engineering(image):\n",
    "    #(2,10),(2,5), (3,8),(4,7),(1,9)\n",
    "    l1 = (image[2, ...] - image[10, ...]) / (image[2, ...] + image[10, ...] + 1e-10)\n",
    "\n",
    "    # NDBI: Normalized Difference Built-up Index, useful for identifying built-up areas.\n",
    "    l2 = (image[2, ...] - image[5, ...]) / (image[2, ...] + image[5, ...] + 1e-10)\n",
    "    \n",
    "    # NDWI: Normalized Difference Water Index\n",
    "    l3 = (image[4, ...] - image[7, ...]) / (image[4, ...] + image[7, ...] + 1e-10)\n",
    "    l4 = (image[3, ...] - image[8, ...]) / (image[3, ...] + image[8, ...] + 1e-10)\n",
    "    l5 = (image[1, ...] - image[9, ...]) / (image[1, ...] + image[9, ...] + 1e-10)\n",
    "\n",
    "    # Stack the indices along with the original image channels\n",
    "    image = np.concatenate(\n",
    "        [\n",
    "            image*2-1,\n",
    "            np.expand_dims(l1, axis=0),\n",
    "            np.expand_dims(l2, axis=0),\n",
    "            np.expand_dims(l3, axis=0),\n",
    "            np.expand_dims(l4, axis=0),\n",
    "            np.expand_dims(l5, axis=0)\n",
    "        ],\n",
    "        axis=0,\n",
    "    )\n",
    "    return image\n"
   ]
  },
  {
   "cell_type": "markdown",
   "metadata": {
    "id": "RHp3Dw2Dqzk3"
   },
   "source": [
    "## Dataset"
   ]
  },
  {
   "cell_type": "code",
   "execution_count": 10,
   "metadata": {
    "execution": {
     "iopub.execute_input": "2024-04-14T15:35:36.214367Z",
     "iopub.status.busy": "2024-04-14T15:35:36.214069Z",
     "iopub.status.idle": "2024-04-14T15:35:36.226145Z",
     "shell.execute_reply": "2024-04-14T15:35:36.225229Z",
     "shell.execute_reply.started": "2024-04-14T15:35:36.214344Z"
    },
    "id": "xyI_UqwkqvE5"
   },
   "outputs": [],
   "source": [
    "from torch.utils.data import Dataset,DataLoader\n",
    "import torchvision.transforms as T\n",
    "\n",
    "def apply_transforms(transform, image):\n",
    "    return transform(image=image)['image']\n",
    "\n",
    "class ImageDataset(Dataset):\n",
    "    def __init__(self, df, root_dir, transform=None, is_train=True):\n",
    "        \"\"\"\n",
    "        Args:\n",
    "            csv_file (string): Path to the csv file with annotations.\n",
    "            root_dir (string): Directory with all the images.\n",
    "            transform (callable, optional): Optional transform to be applied on a sample.\n",
    "        \"\"\"\n",
    "        self.annotations = df\n",
    "        self.root_dir = root_dir\n",
    "        self.transform = transform\n",
    "        self.is_train = is_train\n",
    "\n",
    "    def __len__(self):\n",
    "        return len(self.annotations)\n",
    "\n",
    "    def __getitem__(self, idx):\n",
    "        img_name = os.path.join(self.root_dir, self.annotations.iloc[idx, 0])\n",
    "        image = rasterio.open(img_name).read()\n",
    "        image = feature_engineering(image).transpose(1,2,0)\n",
    "        \n",
    "        if self.is_train:\n",
    "            target = self.annotations.iloc[idx, 1]\n",
    "            target = torch.tensor(target, dtype=torch.float)\n",
    "\n",
    "            if self.transform:\n",
    "                image = apply_transforms(self.transform, image)\n",
    "            return image, target\n",
    "        else:\n",
    "\n",
    "            if self.transform:\n",
    "                image = apply_transforms(self.transform, image)\n",
    "            return image, self.annotations.iloc[idx, 0]"
   ]
  },
  {
   "cell_type": "markdown",
   "metadata": {
    "id": "DO_Y5XFHtoyx",
    "tags": []
   },
   "source": [
    "## Model"
   ]
  },
  {
   "cell_type": "code",
   "execution_count": 11,
   "metadata": {
    "execution": {
     "iopub.execute_input": "2024-04-14T15:35:36.227447Z",
     "iopub.status.busy": "2024-04-14T15:35:36.227186Z",
     "iopub.status.idle": "2024-04-14T15:35:36.239945Z",
     "shell.execute_reply": "2024-04-14T15:35:36.239234Z",
     "shell.execute_reply.started": "2024-04-14T15:35:36.227424Z"
    },
    "id": "pwrSxVRxtgqc"
   },
   "outputs": [],
   "source": [
    "\"\"\"import torch\n",
    "import torch.nn.functional as F\n",
    "from torch import nn\n",
    "import timm\n",
    "from torch.nn.parameter import Parameter\"\"\"\n",
    "\n",
    "class CustomModel(nn.Module):\n",
    "    def __init__(self):\n",
    "        super(CustomModel, self).__init__()\n",
    "        # Load the pretrained ResNet50 model\n",
    "        self.model = timm.create_model('maxvit_tiny_tf_512', pretrained=True, in_chans=17, num_classes=CFG.num_classes).to(device)\n",
    "        #self.model = timm.create_model('maxvit_tiny_tf_224.in1k', pretrained=True, in_chans=17, num_classes=1).to(device)\n",
    "        \n",
    "\n",
    "    def forward(self, x):\n",
    "        return self.model(x)\n",
    "\n"
   ]
  },
  {
   "cell_type": "markdown",
   "metadata": {
    "id": "GilCqCxevM5b"
   },
   "source": [
    "## Secheduler-Optimizer"
   ]
  },
  {
   "cell_type": "code",
   "execution_count": 12,
   "metadata": {
    "execution": {
     "iopub.execute_input": "2024-04-14T15:35:36.241265Z",
     "iopub.status.busy": "2024-04-14T15:35:36.240993Z",
     "iopub.status.idle": "2024-04-14T15:35:36.252961Z",
     "shell.execute_reply": "2024-04-14T15:35:36.252110Z",
     "shell.execute_reply.started": "2024-04-14T15:35:36.241242Z"
    },
    "id": "I2m7Hm1ivO8A"
   },
   "outputs": [],
   "source": [
    "\"\"\"import torch.nn as nn\n",
    "import torch\n",
    "import math\n",
    "import time\n",
    "import numpy as np\n",
    "import torch\"\"\"\n",
    "\n",
    "from torch.optim.lr_scheduler import CosineAnnealingWarmRestarts, CosineAnnealingLR, ReduceLROnPlateau\n",
    "from warmup_scheduler import GradualWarmupScheduler\n",
    "\n",
    "\n",
    "class GradualWarmupSchedulerV2(GradualWarmupScheduler):\n",
    "    \"\"\"\n",
    "    https://www.kaggle.com/code/underwearfitting/single-fold-training-of-resnet200d-lb0-965\n",
    "    \"\"\"\n",
    "    def __init__(self, optimizer, multiplier, total_epoch, after_scheduler=None):\n",
    "        super(GradualWarmupSchedulerV2, self).__init__(\n",
    "            optimizer, multiplier, total_epoch, after_scheduler)\n",
    "\n",
    "    def get_lr(self):\n",
    "        if self.last_epoch > self.total_epoch:\n",
    "            if self.after_scheduler:\n",
    "                if not self.finished:\n",
    "                    self.after_scheduler.base_lrs = [\n",
    "                        base_lr * self.multiplier for base_lr in self.base_lrs]\n",
    "                    self.finished = True\n",
    "                return self.after_scheduler.get_lr()\n",
    "            return [base_lr * self.multiplier for base_lr in self.base_lrs]\n",
    "        if self.multiplier == 1.0:\n",
    "            return [base_lr * (float(self.last_epoch) / self.total_epoch) for base_lr in self.base_lrs]\n",
    "        else:\n",
    "            return [base_lr * ((self.multiplier - 1.) * self.last_epoch / self.total_epoch + 1.) for base_lr in self.base_lrs]\n",
    "        \n",
    "def get_scheduler(cfg, optimizer):\n",
    "    scheduler_cosine = torch.optim.lr_scheduler.CosineAnnealingLR(\n",
    "        optimizer, cfg.epochs, eta_min=1e-7)\n",
    "    scheduler = GradualWarmupSchedulerV2(\n",
    "        optimizer, multiplier=10, total_epoch=1, after_scheduler=scheduler_cosine)\n",
    "\n",
    "    return scheduler\n",
    "\n",
    "def scheduler_step(scheduler, avg_val_loss, epoch):\n",
    "    scheduler.step(epoch)"
   ]
  },
  {
   "cell_type": "markdown",
   "metadata": {
    "id": "roemwGIVvJas"
   },
   "source": [
    "## Engine"
   ]
  },
  {
   "cell_type": "code",
   "execution_count": 13,
   "metadata": {
    "execution": {
     "iopub.execute_input": "2024-04-14T15:35:36.254587Z",
     "iopub.status.busy": "2024-04-14T15:35:36.254332Z",
     "iopub.status.idle": "2024-04-14T15:35:36.269686Z",
     "shell.execute_reply": "2024-04-14T15:35:36.268918Z",
     "shell.execute_reply.started": "2024-04-14T15:35:36.254565Z"
    },
    "id": "3feqg34huy6m"
   },
   "outputs": [],
   "source": [
    "from torch.nn import CrossEntropyLoss, MSELoss, BCEWithLogitsLoss\n",
    "\n",
    "def criterion(y_pred, y_true):\n",
    "     return BCEWithLogitsLoss()(y_pred, y_true)"
   ]
  },
  {
   "cell_type": "code",
   "execution_count": 14,
   "metadata": {
    "execution": {
     "iopub.execute_input": "2024-04-14T15:35:36.271005Z",
     "iopub.status.busy": "2024-04-14T15:35:36.270690Z",
     "iopub.status.idle": "2024-04-14T15:35:36.283644Z",
     "shell.execute_reply": "2024-04-14T15:35:36.282888Z",
     "shell.execute_reply.started": "2024-04-14T15:35:36.270956Z"
    },
    "id": "yfC8vhFZSuk0",
    "outputId": "a6de8597-6eb9-4da5-ff48-42a95ae2ec27"
   },
   "outputs": [
    {
     "data": {
      "text/plain": [
       "device(type='cuda')"
      ]
     },
     "execution_count": 14,
     "metadata": {},
     "output_type": "execute_result"
    }
   ],
   "source": [
    "device"
   ]
  },
  {
   "cell_type": "code",
   "execution_count": 15,
   "metadata": {
    "execution": {
     "iopub.execute_input": "2024-04-14T15:35:36.284992Z",
     "iopub.status.busy": "2024-04-14T15:35:36.284712Z",
     "iopub.status.idle": "2024-04-14T15:35:36.301266Z",
     "shell.execute_reply": "2024-04-14T15:35:36.300409Z",
     "shell.execute_reply.started": "2024-04-14T15:35:36.284965Z"
    },
    "id": "bPMFHdofvaoy"
   },
   "outputs": [],
   "source": [
    "from sklearn.metrics import log_loss\n",
    "\n",
    "def train_fn(train_loader, model, criterion, optimizer, device):\n",
    "    model.train()\n",
    "\n",
    "    scaler = GradScaler(enabled=CFG.use_amp)\n",
    "    losses = AverageMeter()\n",
    "\n",
    "    for step, (images, labels) in tqdm(enumerate(train_loader), total=len(train_loader)):\n",
    "        images = images.to(device)\n",
    "        labels = labels.to(device)\n",
    "        \n",
    "        batch_size = labels.size(0)\n",
    "\n",
    "        with autocast(CFG.use_amp):\n",
    "            y_preds = model(images)\n",
    "            loss = criterion(y_preds.view(labels.shape), labels)\n",
    "\n",
    "        losses.update(loss.item(), batch_size)\n",
    "        scaler.scale(loss).backward()\n",
    "        #scaler.unscale_(optimizer)\n",
    "        #grad_norm = torch.nn.utils.clip_grad_norm_(\n",
    "        #    model.parameters(), CFG.max_grad_norm)\n",
    "\n",
    "        scaler.step(optimizer)\n",
    "        scaler.update()\n",
    "        optimizer.zero_grad()\n",
    "\n",
    "    return losses.avg\n",
    "\n",
    "def valid_fn(valid_loader, model, criterion, device):\n",
    "\n",
    "    model.eval()\n",
    "    losses = AverageMeter()\n",
    "\n",
    "    val_outputs = []\n",
    "    val_labels = []\n",
    "\n",
    "    for step, (images, labels) in tqdm(enumerate(valid_loader), total=len(valid_loader)):\n",
    "        images = images.to(device)\n",
    "        labels = labels.to(device)\n",
    "\n",
    "        batch_size = labels.size(0)\n",
    "\n",
    "        with autocast(CFG.use_amp):\n",
    "            y_preds = model(images)\n",
    "            loss = criterion(y_preds.view(labels.shape), labels)\n",
    "        losses.update(loss.item(), batch_size)\n",
    "\n",
    "        y_preds = y_preds.sigmoid().view(labels.shape).cpu().detach().numpy()\n",
    "        predictions = np.round(y_preds)\n",
    "        val_outputs.append(predictions)\n",
    "        val_labels.append(labels.cpu().detach().numpy())\n",
    "\n",
    "\n",
    "    all_preds = np.concatenate(val_outputs)\n",
    "    all_labels = np.concatenate(val_labels)\n",
    "    \n",
    "\n",
    "    f1 = f1_score(all_labels, all_preds)  # 'macro' averages the F1 score of each class\n",
    "    #print('Calculating CV')\n",
    "    #score = get_score(all_preds, all_labels)\n",
    "    avg_loss = losses.avg\n",
    "\n",
    "    return avg_loss, f1, all_preds, all_labels\n",
    "\n",
    "def get_score(preds, labels):\n",
    "    scores = []\n",
    "    for i in range(len(CFG.targets)):\n",
    "        score = log_loss(labels[:, i], preds[:, i])\n",
    "        scores.append(score)\n",
    "    score = np.mean(scores)\n",
    "    Logger.info(f'score: {score}')\n",
    "    return score"
   ]
  },
  {
   "cell_type": "code",
   "execution_count": 16,
   "metadata": {
    "execution": {
     "iopub.execute_input": "2024-04-14T15:35:36.302605Z",
     "iopub.status.busy": "2024-04-14T15:35:36.302332Z",
     "iopub.status.idle": "2024-04-14T15:35:36.884352Z",
     "shell.execute_reply": "2024-04-14T15:35:36.883375Z",
     "shell.execute_reply.started": "2024-04-14T15:35:36.302583Z"
    }
   },
   "outputs": [],
   "source": [
    "import pandas as pd\n",
    "import os\n",
    "import requests\n",
    "\n",
    "train_df = pd.read_csv('/kaggle/input/mining/train/answer.csv')\n",
    "train_df.loc[len(train_df)] = ['train_0.tif', 0]\n",
    "train_df.columns = ['filename', 'class']\n",
    "\n",
    "train_df.to_csv('train.csv', index=False)\n",
    "\n",
    "#test\n",
    "images_path = '/kaggle/input/mining/evaluation_images'\n",
    "\n",
    "filenames = []\n",
    "\n",
    "for file in os.listdir(images_path):\n",
    "    filenames.append(file)\n",
    "test_df = pd.DataFrame(filenames, columns=['filename'])\n",
    "\n",
    "test_df.to_csv('test.csv', index=False)\n",
    "\n",
    "# URL of the samplesubmission file\n",
    "url = \"https://solafune-dev-v1.s3-accelerate.amazonaws.com/competitions/mining_comp/uploadsample.csv\"\n",
    "response = requests.get(url)\n",
    "with open('uploadsample.csv', 'wb') as file:\n",
    "    file.write(response.content)\n",
    "ss = pd.read_csv(\"/kaggle/working/uploadsample.csv\")"
   ]
  },
  {
   "cell_type": "code",
   "execution_count": 17,
   "metadata": {
    "execution": {
     "iopub.execute_input": "2024-04-14T15:35:36.885825Z",
     "iopub.status.busy": "2024-04-14T15:35:36.885511Z",
     "iopub.status.idle": "2024-04-14T15:35:36.902475Z",
     "shell.execute_reply": "2024-04-14T15:35:36.901572Z",
     "shell.execute_reply.started": "2024-04-14T15:35:36.885800Z"
    },
    "id": "WOe9Qe3ESuk1"
   },
   "outputs": [],
   "source": [
    "from sklearn.model_selection import KFold, StratifiedKFold\n",
    "folds = StratifiedKFold(5,shuffle=True,random_state = CFG.seed)\n",
    "train_df['fold'] = -1\n",
    "for idx,(train_idx,test_idx) in enumerate(folds.split(train_df, train_df[CFG.targets])) :\n",
    "    train_df.loc[test_idx,'fold'] = idx\n"
   ]
  },
  {
   "cell_type": "code",
   "execution_count": 18,
   "metadata": {
    "execution": {
     "iopub.execute_input": "2024-04-14T15:35:36.904036Z",
     "iopub.status.busy": "2024-04-14T15:35:36.903719Z",
     "iopub.status.idle": "2024-04-14T15:35:36.916797Z",
     "shell.execute_reply": "2024-04-14T15:35:36.915776Z",
     "shell.execute_reply.started": "2024-04-14T15:35:36.904010Z"
    }
   },
   "outputs": [
    {
     "data": {
      "text/html": [
       "<div>\n",
       "<style scoped>\n",
       "    .dataframe tbody tr th:only-of-type {\n",
       "        vertical-align: middle;\n",
       "    }\n",
       "\n",
       "    .dataframe tbody tr th {\n",
       "        vertical-align: top;\n",
       "    }\n",
       "\n",
       "    .dataframe thead th {\n",
       "        text-align: right;\n",
       "    }\n",
       "</style>\n",
       "<table border=\"1\" class=\"dataframe\">\n",
       "  <thead>\n",
       "    <tr style=\"text-align: right;\">\n",
       "      <th></th>\n",
       "      <th>filename</th>\n",
       "      <th>class</th>\n",
       "      <th>fold</th>\n",
       "    </tr>\n",
       "  </thead>\n",
       "  <tbody>\n",
       "    <tr>\n",
       "      <th>0</th>\n",
       "      <td>train_1.tif</td>\n",
       "      <td>0</td>\n",
       "      <td>3</td>\n",
       "    </tr>\n",
       "    <tr>\n",
       "      <th>1</th>\n",
       "      <td>train_2.tif</td>\n",
       "      <td>0</td>\n",
       "      <td>2</td>\n",
       "    </tr>\n",
       "    <tr>\n",
       "      <th>2</th>\n",
       "      <td>train_3.tif</td>\n",
       "      <td>1</td>\n",
       "      <td>2</td>\n",
       "    </tr>\n",
       "    <tr>\n",
       "      <th>3</th>\n",
       "      <td>train_4.tif</td>\n",
       "      <td>0</td>\n",
       "      <td>3</td>\n",
       "    </tr>\n",
       "    <tr>\n",
       "      <th>4</th>\n",
       "      <td>train_5.tif</td>\n",
       "      <td>0</td>\n",
       "      <td>2</td>\n",
       "    </tr>\n",
       "  </tbody>\n",
       "</table>\n",
       "</div>"
      ],
      "text/plain": [
       "      filename  class  fold\n",
       "0  train_1.tif      0     3\n",
       "1  train_2.tif      0     2\n",
       "2  train_3.tif      1     2\n",
       "3  train_4.tif      0     3\n",
       "4  train_5.tif      0     2"
      ]
     },
     "execution_count": 18,
     "metadata": {},
     "output_type": "execute_result"
    }
   ],
   "source": [
    "train_df.head()"
   ]
  },
  {
   "cell_type": "code",
   "execution_count": 19,
   "metadata": {
    "execution": {
     "iopub.execute_input": "2024-04-14T15:35:36.918447Z",
     "iopub.status.busy": "2024-04-14T15:35:36.918111Z",
     "iopub.status.idle": "2024-04-14T15:35:36.934412Z",
     "shell.execute_reply": "2024-04-14T15:35:36.933645Z",
     "shell.execute_reply.started": "2024-04-14T15:35:36.918416Z"
    },
    "id": "fsvxeRsFxhvD"
   },
   "outputs": [],
   "source": [
    "def get_transforms(data, cfg):\n",
    "    if data == 'train':\n",
    "        aug = A.Compose(cfg.train_aug_list,is_check_shapes=False)\n",
    "    elif data == 'valid':\n",
    "        aug = A.Compose(cfg.valid_aug_list,is_check_shapes=False)\n",
    "\n",
    "    # print(aug)\n",
    "    return aug\n",
    "def run() :\n",
    "\n",
    "    oof_preds = []\n",
    "    oof_labels = []\n",
    "    for fold in range(5) :\n",
    "        \n",
    "        with torch.no_grad():\n",
    "            torch.cuda.empty_cache()\n",
    "\n",
    "        Logger.info(f'--------------Fold {fold+1}/5---------------------')\n",
    "        df_train = train_df[train_df.fold!=fold].reset_index(drop=True)\n",
    "        valid_indices = train_df[train_df.fold==fold].index\n",
    "        df_valid = train_df[train_df.fold==fold].reset_index(drop=True)\n",
    "\n",
    "        train_dataset = ImageDataset(df_train,root_dir='/kaggle/input/mining/train/train', is_train=True,transform = get_transforms('train', CFG))\n",
    "        valid_dataset = ImageDataset(df_valid,root_dir='/kaggle/input/mining/train/train', is_train=True,transform = get_transforms('valid', CFG))\n",
    "\n",
    "        train_loader = DataLoader(train_dataset,\n",
    "                                batch_size=CFG.train_batch_size,\n",
    "                                shuffle=True,\n",
    "                                num_workers=CFG.num_workers, pin_memory=True, drop_last=True,\n",
    "                                )\n",
    "        valid_loader = DataLoader(valid_dataset,\n",
    "                        batch_size=CFG.valid_batch_size,\n",
    "                        shuffle=False,\n",
    "                        num_workers=CFG.num_workers, pin_memory=True, drop_last=False\n",
    "                                )\n",
    "        model = CustomModel()\n",
    "        model.to(device)\n",
    "\n",
    "        optimizer = AdamW(model.parameters(), lr=CFG.lr)\n",
    "        scheduler = get_scheduler(CFG, optimizer)\n",
    "        best_score = - np.inf\n",
    "\n",
    "        print('Start Training')\n",
    "        for epoch in range(CFG.epochs):\n",
    "\n",
    "                start_time = time.time()\n",
    "\n",
    "                # train\n",
    "                avg_loss = train_fn(train_loader, model, criterion, optimizer, device)\n",
    "\n",
    "                # eval\n",
    "\n",
    "                avg_val_loss, score, preds, labels = valid_fn(valid_loader, model, criterion, device)\n",
    "\n",
    "                scheduler_step(scheduler, avg_val_loss, epoch)\n",
    "\n",
    "\n",
    "                elapsed = time.time() - start_time\n",
    "\n",
    "                Logger.info(\n",
    "                        f'Epoch {epoch+1} - avg_train_loss: {avg_loss:.4f}  avg_val_loss: {avg_val_loss:.4f} time: {elapsed:.0f}s')\n",
    "                # Logger.info(f'Epoch {epoch+1} - avgScore: {avg_score:.4f}')\n",
    "                Logger.info(\n",
    "                        f'Epoch {epoch+1} - F1 score: {score:.4f}')\n",
    "\n",
    "                if CFG.metric_direction == 'minimize':\n",
    "                    update_best = score < best_score\n",
    "                elif CFG.metric_direction == 'maximize':\n",
    "                    update_best = score > best_score\n",
    "\n",
    "                if update_best:\n",
    "                    best_loss = avg_val_loss\n",
    "                    best_score = score\n",
    "                    best_preds = preds\n",
    "\n",
    "                    Logger.info(\n",
    "                        f'Epoch {epoch+1} - Save Best F1_Score: {best_score:.4f} Model')\n",
    "                    Logger.info(\n",
    "                        f'Epoch {epoch+1} - Save Best Loss: {best_loss:.4f} Model')\n",
    "\n",
    "                    torch.save({'model': model.state_dict()},\n",
    "                            CFG.model_dir + f'{CFG.exp_name}_fold{fold}_best.pth')\n",
    "        train_df.loc[valid_indices, 'pred_' + CFG.targets] = best_preds\n",
    "\n",
    "    return train_df\n"
   ]
  },
  {
   "cell_type": "code",
   "execution_count": null,
   "metadata": {
    "colab": {
     "referenced_widgets": [
      "d2f9582c35234815ba21b99637f813c5",
      "fddbb88b0b9040e8bf304fbe718b2efa",
      "b8e11aad30754e5b9fcb05be6b413426",
      "fc5ac6b99fb94f5b8da186247dfc6509",
      "21d3ad9868864ddeaaeaea2484e42f15",
      "61260fa8db6841d1abd274b9787b6387",
      "cc4509ff873348b9aaf22a2683eaebe0",
      "e65a73b2d3194a9a8a4eda4ca1110e37",
      "6bc0b849b65741c5aaa3e1e9fcaf8ff8",
      "3d8aed6406e8424fb0c3035c6bd7c94e",
      "a334c2c965f0481fbc9c4d3dfe22f728",
      "acd0efdfa7bf430aac9437832d2cd130",
      "84887d737e8249b29fd98d57475c73d2",
      "883d5bb2dcaa489698ba275ef013d0e1",
      "686046297e6a4ac186076cb634062886",
      "eebd346a7bea4f51b4e87570ee2d8595",
      "5df70359728640eca120947f910c5138",
      "d754ddceaed848a7bcee3f6c9a151a63",
      "073dd4b4003545b78a82175b7b9a7ff4",
      "a8485143c1de4a82820d961e9b9772ea",
      "85cc187a502a440baec287d2a7414f67",
      "b7575534efaf451aa4f9609ea5e824f0",
      "0c95eac9a66548d8b40f1c3f9c4890da",
      "b5bdac5ab4a549539c6cb310af73ef2f",
      "da240bf112d748f7a05f7144e4201402",
      "efadf9b4600c4527afc7cc121bd0cdfb",
      "d3d03c986e0445f3b98ccf0800a757c6",
      "4f08c049c8734053b058c1e440682748",
      "2052554362db4d4480f931e6d6aa21b2",
      "d22cbf93fa27447da9287b72e66f5312",
      "7bb0fe522f504ac48da60188d74b00c4",
      "b2e164bd33734dba86d0783bbcbee3dd",
      "912eea55e3c243bda4f101fcc6b31899",
      "0375554a3cc84de7b60fa2e2a0c228f2",
      "5d7bd25d0f44459a8e0ea7f0786a893e",
      "a4775a9fde4440f1857d799907229896",
      "3e1cb6e2f11045fd859bebc91572f4a3",
      "14c99417c504467699af45327f33f02b",
      "28e617fbb190481885011dc8800b23d3",
      "1b13950917bb453c9d7b55538d2abf7c",
      "9cfba32983b045d180b31ec4d7589e54",
      "88fc92e08d3241c9a7e5380be774c02d",
      "94227163f09e4dacb68c51379c215d13",
      "0ee1430856424e6089cdd80022333d0c",
      "db810397b6fd4abba0179d5460d78f62",
      "8b8e181a48f64b42a0739cc15c1c71e1",
      "6fa7201be9e44ed99edc1f04795842ad",
      "c872f26bf9914976a5f2074e6ef72d76",
      "0e2f511cd3ca46278a8625a6145a3310",
      "ddd91f21ec334d21857a9a228a7821fb",
      "59cfbe136b3440c2a62cd023e1eb185f",
      "a02684ca464c4d3796323bd81f0d0aaf",
      "81ad38e4fe2b4b63a5df99a9fa3cb9ea",
      "318e44ca72cf47689084ad2ee67f6c4c",
      "02e1057a86fe4a8b9a29595f2a5d19af",
      "64f74894001344c9b7847e0ee497866c",
      "adf040dcbf364442a460a56c91ba99e7",
      "7985df2b99e04978a4270ab6a8a68a01",
      "65fdd9abf1b845da85cddf8d8cb36af0",
      "7fd1f5a4e5b44f28b441e117a635b84f",
      "4a7a6f3d87744070adb347fcb064563c",
      "ce594906a96c46c19e033c0845349697",
      "2e76b1a609c54677bc999d4e7d5d12a5",
      "8736b6128d6048b484a7ae5f61f3ba12",
      "74b0d38a1a114c34b11f787bf9ceda2d",
      "c69897ead6d540319ad0c895196e217c",
      "d9e59c647cc94e978efd2a2d369791b9",
      "9f59ed90412546cdb1e10d629c5e850c",
      "7232fa88515c4771a9772db4446d6b37",
      "56948da2953b4e8badb61cb5cf91193e",
      "8aeca36c5f51469292e701d7dcff3d8f",
      "44b441299218465e8e1258ff16150bc3",
      "57875d13e2c54844ae2fdc5c35205fa2",
      "cefeeb45ce144c38a1af7208cb44656c",
      "e11f81f81be042c3a64a2d8047584748",
      "304d867a1e7146ccb9c70109c99a95ca",
      "03a6c7ff33f3476f8f2eee1b805f0854",
      "bf4dcfae84914e98b3f2914999d3c9be",
      "f514cdf226d74e6fa2738f90c0bb9613",
      "90173771e1a54c0f8a79d23cb8604af0",
      "542e42e8153a48d394acc91081e1ded0",
      "6a7abf2786b349a9bc4348e9909ccc63",
      "14608a78c8e647bf881e452efa6602b6",
      "cca1294ce03a4fba925dda71ff48aa45",
      "a5260e162686486e955f119eae0ded76",
      "3b2fd719c3bb486aa63ee0c155ca7da1",
      "ca32daa28b31412e8eb4f63333137f44",
      "2527ee32e7994d16ba4cd089a1012b79",
      "e27d4e545f4a4d3d8a56eb3e3b3ad047",
      "9d81f9654a3d4a2483a5f1d39a639a29",
      "d2b651d343ac47fcaf02ca45e67c1b4c",
      "d66f31123c2d4a6cbaa46c67e2023828",
      "17e4c61ba79e4d39be19affc52f653f1",
      "08128a2791884173889901b606508d92",
      "9e8992a55021416abbb3b03709d80ac5",
      "58bdb852eb4b485591f66f1ea60c5122",
      "7d133ddad6614ab4bc5c4f08e623244c",
      "ce403d3282a94a08a7d4acfa444ba782",
      "3e9dc875a9834a918ca882cc3da4da7c",
      "49f2fb66582a44a395eb8c962a4349cf",
      "443a26e19d93456bab82ce5ea99beba8",
      "6b9d3901612f46098395ca50c7dd6d97",
      "15a22ed039db48acafda6d0bab6afb9e",
      "20068392e3d044939ab4abba374aac0d",
      "1df2da6daa834bd1931aa34882abdba5",
      "d3411a89e7f2486589ee0eba4a32743e",
      "d976790a1bcf43df85245e2f11a7b4e7",
      "d45ea457de6343a29bacbb4f599faa12",
      "8fbb984749954791a0ee0e053eeed364",
      "96c9f12e48dd4d77b5d6d767c54839c3",
      "5502e2afa491451893a2cdf2608c55dc",
      "4e2149bb90014240b52c0b2e9f779301"
     ]
    },
    "execution": {
     "iopub.execute_input": "2024-04-14T15:35:36.935914Z",
     "iopub.status.busy": "2024-04-14T15:35:36.935649Z"
    },
    "id": "3HhSwbDeSuk3",
    "outputId": "9e8f1145-757e-4cd5-cb5d-508028c714aa"
   },
   "outputs": [
    {
     "name": "stderr",
     "output_type": "stream",
     "text": [
      "--------------Fold 1/5---------------------\n"
     ]
    },
    {
     "data": {
      "application/vnd.jupyter.widget-view+json": {
       "model_id": "379e3984477142da8ba55fa096870e5e",
       "version_major": 2,
       "version_minor": 0
      },
      "text/plain": [
       "model.safetensors:   0%|          | 0.00/124M [00:00<?, ?B/s]"
      ]
     },
     "metadata": {},
     "output_type": "display_data"
    },
    {
     "name": "stdout",
     "output_type": "stream",
     "text": [
      "Start Training\n"
     ]
    },
    {
     "data": {
      "application/vnd.jupyter.widget-view+json": {
       "model_id": "00d2f89bf2c24259bb4b2b7b1f77e8af",
       "version_major": 2,
       "version_minor": 0
      },
      "text/plain": [
       "  0%|          | 0/124 [00:00<?, ?it/s]"
      ]
     },
     "metadata": {},
     "output_type": "display_data"
    },
    {
     "data": {
      "application/vnd.jupyter.widget-view+json": {
       "model_id": "5966aecaf5494096aee79f18ccc96458",
       "version_major": 2,
       "version_minor": 0
      },
      "text/plain": [
       "  0%|          | 0/125 [00:00<?, ?it/s]"
      ]
     },
     "metadata": {},
     "output_type": "display_data"
    },
    {
     "name": "stderr",
     "output_type": "stream",
     "text": [
      "Epoch 1 - avg_train_loss: 0.4562  avg_val_loss: 0.3444 time: 110s\n",
      "Epoch 1 - F1 score: 0.6237\n",
      "Epoch 1 - Save Best F1_Score: 0.6237 Model\n",
      "Epoch 1 - Save Best Loss: 0.3444 Model\n"
     ]
    },
    {
     "data": {
      "application/vnd.jupyter.widget-view+json": {
       "model_id": "45122430ce7b4d8c9766724aad6b2332",
       "version_major": 2,
       "version_minor": 0
      },
      "text/plain": [
       "  0%|          | 0/124 [00:00<?, ?it/s]"
      ]
     },
     "metadata": {},
     "output_type": "display_data"
    },
    {
     "data": {
      "application/vnd.jupyter.widget-view+json": {
       "model_id": "87ad87e596c74456a2b714f3cc436ea9",
       "version_major": 2,
       "version_minor": 0
      },
      "text/plain": [
       "  0%|          | 0/125 [00:00<?, ?it/s]"
      ]
     },
     "metadata": {},
     "output_type": "display_data"
    },
    {
     "name": "stderr",
     "output_type": "stream",
     "text": [
      "Epoch 2 - avg_train_loss: 0.3010  avg_val_loss: 0.2462 time: 98s\n",
      "Epoch 2 - F1 score: 0.7308\n",
      "Epoch 2 - Save Best F1_Score: 0.7308 Model\n",
      "Epoch 2 - Save Best Loss: 0.2462 Model\n"
     ]
    },
    {
     "data": {
      "application/vnd.jupyter.widget-view+json": {
       "model_id": "66a905b4019c40668db0ed955ca17b68",
       "version_major": 2,
       "version_minor": 0
      },
      "text/plain": [
       "  0%|          | 0/124 [00:00<?, ?it/s]"
      ]
     },
     "metadata": {},
     "output_type": "display_data"
    },
    {
     "data": {
      "application/vnd.jupyter.widget-view+json": {
       "model_id": "e1d43a69de754ed6a5f1b857ef546776",
       "version_major": 2,
       "version_minor": 0
      },
      "text/plain": [
       "  0%|          | 0/125 [00:00<?, ?it/s]"
      ]
     },
     "metadata": {},
     "output_type": "display_data"
    },
    {
     "name": "stderr",
     "output_type": "stream",
     "text": [
      "Epoch 3 - avg_train_loss: 0.4574  avg_val_loss: 0.4133 time: 98s\n",
      "Epoch 3 - F1 score: 0.2105\n"
     ]
    },
    {
     "data": {
      "application/vnd.jupyter.widget-view+json": {
       "model_id": "e883efc1d82b427bab2232b337f1d793",
       "version_major": 2,
       "version_minor": 0
      },
      "text/plain": [
       "  0%|          | 0/124 [00:00<?, ?it/s]"
      ]
     },
     "metadata": {},
     "output_type": "display_data"
    },
    {
     "data": {
      "application/vnd.jupyter.widget-view+json": {
       "model_id": "7550d364a6924a4e9c470938ffedc449",
       "version_major": 2,
       "version_minor": 0
      },
      "text/plain": [
       "  0%|          | 0/125 [00:00<?, ?it/s]"
      ]
     },
     "metadata": {},
     "output_type": "display_data"
    },
    {
     "name": "stderr",
     "output_type": "stream",
     "text": [
      "Epoch 4 - avg_train_loss: 0.3825  avg_val_loss: 0.2596 time: 98s\n",
      "Epoch 4 - F1 score: 0.7333\n",
      "Epoch 4 - Save Best F1_Score: 0.7333 Model\n",
      "Epoch 4 - Save Best Loss: 0.2596 Model\n"
     ]
    },
    {
     "data": {
      "application/vnd.jupyter.widget-view+json": {
       "model_id": "9b0a17a4b23b40e7aef3297182e29daf",
       "version_major": 2,
       "version_minor": 0
      },
      "text/plain": [
       "  0%|          | 0/124 [00:00<?, ?it/s]"
      ]
     },
     "metadata": {},
     "output_type": "display_data"
    },
    {
     "data": {
      "application/vnd.jupyter.widget-view+json": {
       "model_id": "8e094fd2088d4999a07df379ef8082b2",
       "version_major": 2,
       "version_minor": 0
      },
      "text/plain": [
       "  0%|          | 0/125 [00:00<?, ?it/s]"
      ]
     },
     "metadata": {},
     "output_type": "display_data"
    },
    {
     "name": "stderr",
     "output_type": "stream",
     "text": [
      "Epoch 5 - avg_train_loss: 0.3233  avg_val_loss: 0.2670 time: 98s\n",
      "Epoch 5 - F1 score: 0.7455\n",
      "Epoch 5 - Save Best F1_Score: 0.7455 Model\n",
      "Epoch 5 - Save Best Loss: 0.2670 Model\n"
     ]
    },
    {
     "data": {
      "application/vnd.jupyter.widget-view+json": {
       "model_id": "d3de2e5fdb7b4773a1f360f1a940fb62",
       "version_major": 2,
       "version_minor": 0
      },
      "text/plain": [
       "  0%|          | 0/124 [00:00<?, ?it/s]"
      ]
     },
     "metadata": {},
     "output_type": "display_data"
    },
    {
     "data": {
      "application/vnd.jupyter.widget-view+json": {
       "model_id": "fd9b748fd777417b8e7dcb5570fa6b9b",
       "version_major": 2,
       "version_minor": 0
      },
      "text/plain": [
       "  0%|          | 0/125 [00:00<?, ?it/s]"
      ]
     },
     "metadata": {},
     "output_type": "display_data"
    },
    {
     "name": "stderr",
     "output_type": "stream",
     "text": [
      "Epoch 6 - avg_train_loss: 0.3090  avg_val_loss: 0.2259 time: 98s\n",
      "Epoch 6 - F1 score: 0.7391\n"
     ]
    },
    {
     "data": {
      "application/vnd.jupyter.widget-view+json": {
       "model_id": "718a16f99f59436a91e4ee91fb0f5daf",
       "version_major": 2,
       "version_minor": 0
      },
      "text/plain": [
       "  0%|          | 0/124 [00:00<?, ?it/s]"
      ]
     },
     "metadata": {},
     "output_type": "display_data"
    },
    {
     "data": {
      "application/vnd.jupyter.widget-view+json": {
       "model_id": "0aea8461066c4c0189a2567357d439d5",
       "version_major": 2,
       "version_minor": 0
      },
      "text/plain": [
       "  0%|          | 0/125 [00:00<?, ?it/s]"
      ]
     },
     "metadata": {},
     "output_type": "display_data"
    },
    {
     "name": "stderr",
     "output_type": "stream",
     "text": [
      "Epoch 7 - avg_train_loss: 0.3007  avg_val_loss: 0.2119 time: 98s\n",
      "Epoch 7 - F1 score: 0.8224\n",
      "Epoch 7 - Save Best F1_Score: 0.8224 Model\n",
      "Epoch 7 - Save Best Loss: 0.2119 Model\n"
     ]
    },
    {
     "data": {
      "application/vnd.jupyter.widget-view+json": {
       "model_id": "e267b71bc8dd4c7591bab86359389c59",
       "version_major": 2,
       "version_minor": 0
      },
      "text/plain": [
       "  0%|          | 0/124 [00:00<?, ?it/s]"
      ]
     },
     "metadata": {},
     "output_type": "display_data"
    },
    {
     "data": {
      "application/vnd.jupyter.widget-view+json": {
       "model_id": "45045e58fbe74a3e8be2f0265fb03bcc",
       "version_major": 2,
       "version_minor": 0
      },
      "text/plain": [
       "  0%|          | 0/125 [00:00<?, ?it/s]"
      ]
     },
     "metadata": {},
     "output_type": "display_data"
    },
    {
     "name": "stderr",
     "output_type": "stream",
     "text": [
      "Epoch 8 - avg_train_loss: 0.2999  avg_val_loss: 0.2627 time: 98s\n",
      "Epoch 8 - F1 score: 0.6957\n"
     ]
    },
    {
     "data": {
      "application/vnd.jupyter.widget-view+json": {
       "model_id": "4a67a117fb474b0387905743487ced15",
       "version_major": 2,
       "version_minor": 0
      },
      "text/plain": [
       "  0%|          | 0/124 [00:00<?, ?it/s]"
      ]
     },
     "metadata": {},
     "output_type": "display_data"
    },
    {
     "data": {
      "application/vnd.jupyter.widget-view+json": {
       "model_id": "bfdbec16a5b5473aa055748913db753f",
       "version_major": 2,
       "version_minor": 0
      },
      "text/plain": [
       "  0%|          | 0/125 [00:00<?, ?it/s]"
      ]
     },
     "metadata": {},
     "output_type": "display_data"
    },
    {
     "name": "stderr",
     "output_type": "stream",
     "text": [
      "Epoch 9 - avg_train_loss: 0.2712  avg_val_loss: 0.2458 time: 98s\n",
      "Epoch 9 - F1 score: 0.7089\n"
     ]
    },
    {
     "data": {
      "application/vnd.jupyter.widget-view+json": {
       "model_id": "107a165c3be94b4eb3a68a691bb35874",
       "version_major": 2,
       "version_minor": 0
      },
      "text/plain": [
       "  0%|          | 0/124 [00:00<?, ?it/s]"
      ]
     },
     "metadata": {},
     "output_type": "display_data"
    },
    {
     "data": {
      "application/vnd.jupyter.widget-view+json": {
       "model_id": "adc7d5c1972940669c8a2e0412ce4104",
       "version_major": 2,
       "version_minor": 0
      },
      "text/plain": [
       "  0%|          | 0/125 [00:00<?, ?it/s]"
      ]
     },
     "metadata": {},
     "output_type": "display_data"
    },
    {
     "name": "stderr",
     "output_type": "stream",
     "text": [
      "Epoch 10 - avg_train_loss: 0.2799  avg_val_loss: 0.2803 time: 98s\n",
      "Epoch 10 - F1 score: 0.7156\n"
     ]
    },
    {
     "data": {
      "application/vnd.jupyter.widget-view+json": {
       "model_id": "f1f0428aa80b4e08b6e978f62b2af783",
       "version_major": 2,
       "version_minor": 0
      },
      "text/plain": [
       "  0%|          | 0/124 [00:00<?, ?it/s]"
      ]
     },
     "metadata": {},
     "output_type": "display_data"
    },
    {
     "data": {
      "application/vnd.jupyter.widget-view+json": {
       "model_id": "e6895a8dc6294336bb1a71da0adf16ec",
       "version_major": 2,
       "version_minor": 0
      },
      "text/plain": [
       "  0%|          | 0/125 [00:00<?, ?it/s]"
      ]
     },
     "metadata": {},
     "output_type": "display_data"
    },
    {
     "name": "stderr",
     "output_type": "stream",
     "text": [
      "Epoch 11 - avg_train_loss: 0.2763  avg_val_loss: 0.1992 time: 98s\n",
      "Epoch 11 - F1 score: 0.8043\n"
     ]
    },
    {
     "data": {
      "application/vnd.jupyter.widget-view+json": {
       "model_id": "c8cf573330744eceb26d15d3dff73041",
       "version_major": 2,
       "version_minor": 0
      },
      "text/plain": [
       "  0%|          | 0/124 [00:00<?, ?it/s]"
      ]
     },
     "metadata": {},
     "output_type": "display_data"
    },
    {
     "data": {
      "application/vnd.jupyter.widget-view+json": {
       "model_id": "269a84398c6e4a11bee92fe923dcaf44",
       "version_major": 2,
       "version_minor": 0
      },
      "text/plain": [
       "  0%|          | 0/125 [00:00<?, ?it/s]"
      ]
     },
     "metadata": {},
     "output_type": "display_data"
    },
    {
     "name": "stderr",
     "output_type": "stream",
     "text": [
      "Epoch 12 - avg_train_loss: 0.2149  avg_val_loss: 0.2236 time: 98s\n",
      "Epoch 12 - F1 score: 0.7778\n"
     ]
    },
    {
     "data": {
      "application/vnd.jupyter.widget-view+json": {
       "model_id": "4bdf706f796e4062a937cce977acf2e1",
       "version_major": 2,
       "version_minor": 0
      },
      "text/plain": [
       "  0%|          | 0/124 [00:00<?, ?it/s]"
      ]
     },
     "metadata": {},
     "output_type": "display_data"
    },
    {
     "data": {
      "application/vnd.jupyter.widget-view+json": {
       "model_id": "4606b242de234047b22cc25dd18ed03e",
       "version_major": 2,
       "version_minor": 0
      },
      "text/plain": [
       "  0%|          | 0/125 [00:00<?, ?it/s]"
      ]
     },
     "metadata": {},
     "output_type": "display_data"
    }
   ],
   "source": [
    "train = run()"
   ]
  },
  {
   "cell_type": "code",
   "execution_count": null,
   "metadata": {},
   "outputs": [],
   "source": []
  },
  {
   "cell_type": "code",
   "execution_count": null,
   "metadata": {},
   "outputs": [],
   "source": []
  },
  {
   "cell_type": "markdown",
   "metadata": {
    "id": "ZemwdDuRSuk3"
   },
   "source": [
    "## Inference"
   ]
  },
  {
   "cell_type": "code",
   "execution_count": null,
   "metadata": {
    "id": "Cj-Fx5ONSuk4"
   },
   "outputs": [],
   "source": [
    "class EnsembleModel(nn.Module):\n",
    "    def __init__(self):\n",
    "        super().__init__()\n",
    "        self.model = nn.ModuleList()\n",
    "        for fold in range(5):\n",
    "            _model = CustomModel()\n",
    "            _model.to(device)\n",
    "\n",
    "            model_path = f'/kaggle/working/outputs/solafune/exp1/solafune-models/exp1_fold{fold}_best.pth'\n",
    "            state = torch.load(model_path)['model']\n",
    "            _model.load_state_dict(state)\n",
    "            _model.eval()\n",
    "\n",
    "            self.model.append(_model)\n",
    "\n",
    "    def __len__(self) :\n",
    "        return len(self.model)\n",
    "\n",
    "\n",
    "    def forward(self,x):\n",
    "        output=[]\n",
    "        for m in self.model:\n",
    "            output.append(m(x).sigmoid())\n",
    "        output=torch.stack(output,dim=0).mean(0)\n",
    "        return output"
   ]
  },
  {
   "cell_type": "code",
   "execution_count": null,
   "metadata": {
    "id": "A4BziUlqSuk4"
   },
   "outputs": [],
   "source": [
    "with torch.no_grad():\n",
    "    torch.cuda.empty_cache()"
   ]
  },
  {
   "cell_type": "code",
   "execution_count": null,
   "metadata": {
    "id": "JJB-TjfGSuk4"
   },
   "outputs": [],
   "source": [
    "def run_inference() :\n",
    "    \n",
    "    valid_dataset = ImageDataset(test_df,root_dir='/kaggle/input/mining/evaluation_images', is_train=False,transform = get_transforms('valid', CFG))\n",
    "    valid_loader = DataLoader(valid_dataset,\n",
    "                        batch_size=CFG.valid_batch_size,\n",
    "                        shuffle=False,\n",
    "                        num_workers=CFG.num_workers, pin_memory=True, drop_last=False\n",
    "                                )\n",
    "    model = EnsembleModel().to(device)\n",
    "    all_probabilities = []\n",
    "    file_names = []\n",
    "    target_ratio = 0.206119163\n",
    "\n",
    "    model.eval()\n",
    "    losses = AverageMeter()\n",
    "\n",
    "    val_outputs = []\n",
    "    val_labels = []\n",
    "\n",
    "    for step, (data, batch_file_names) in tqdm(enumerate(valid_loader), total=len(valid_loader)):\n",
    "        data = data.to(device)\n",
    "        \n",
    "        # Forward pass\n",
    "        outputs = model(data)\n",
    "\n",
    "        # Apply sigmoid to get probabilities\n",
    "        probabilities = torch.sigmoid(outputs)\n",
    "\n",
    "        # Collect probabilities\n",
    "        all_probabilities.extend(probabilities.cpu().detach().numpy())\n",
    "\n",
    "        # Collect file names\n",
    "        file_names.extend(batch_file_names)\n",
    "        \n",
    "    # Convert list of probabilities to numpy array\n",
    "    all_probabilities = np.array(all_probabilities).squeeze()\n",
    "\n",
    "    # Initialize the best threshold and its score\n",
    "    best_threshold = None\n",
    "    best_score = float('inf')\n",
    "\n",
    "    # Check for thresholds in the range 0.1 to 0.99 with a step of 0.005\n",
    "    for threshold in np.arange(0.1, 0.99, 0.005):\n",
    "        predicted_classes = (all_probabilities > threshold).astype(int)\n",
    "        class_1_ratio = np.mean(predicted_classes)\n",
    "\n",
    "        # Calculate how close the class 1 ratio is to the target ratio\n",
    "        score = abs(class_1_ratio - target_ratio)\n",
    "\n",
    "        if score < best_score:\n",
    "            best_score = score\n",
    "            best_threshold = threshold\n",
    "\n",
    "    # Using the best threshold, generate the final predictions\n",
    "    final_classes = (all_probabilities > best_threshold).astype(int)\n",
    "    df = pd.DataFrame({\n",
    "        'file_name': file_names,\n",
    "        'class': final_classes\n",
    "    })\n",
    "    \n",
    "    # Set the first row as column names\n",
    "    df.columns = df.iloc[0]\n",
    "\n",
    "    # Drop the first row\n",
    "    df = df.drop(df.index[0])\n",
    "\n",
    "    # Reset the index\n",
    "    df = df.reset_index(drop=True)\n",
    "\n",
    "    return df, best_threshold\n",
    "    \n",
    "\n"
   ]
  },
  {
   "cell_type": "code",
   "execution_count": null,
   "metadata": {},
   "outputs": [],
   "source": []
  },
  {
   "cell_type": "code",
   "execution_count": null,
   "metadata": {
    "colab": {
     "referenced_widgets": [
      "582d48143243445087d3f71d4c0fe8ea"
     ]
    },
    "id": "Dgs1WleTSuk5",
    "outputId": "63b5009f-f9cc-4c03-8ff6-00e7a4ad96ab"
   },
   "outputs": [],
   "source": [
    "predictions, optimal_threshold  = run_inference()\n",
    "print('optimal threshold: ', optimal_threshold)"
   ]
  },
  {
   "cell_type": "code",
   "execution_count": null,
   "metadata": {
    "id": "Xm3WLQTLSuk5",
    "outputId": "dbba19bb-4a37-41b4-ee10-e52f10dcc656"
   },
   "outputs": [],
   "source": [
    "predictions.iloc[:,1].value_counts(normalize=True)"
   ]
  },
  {
   "cell_type": "code",
   "execution_count": null,
   "metadata": {
    "id": "Thpg69jpSuk8"
   },
   "outputs": [],
   "source": [
    "predictions.to_csv('submission.csv', index=False)"
   ]
  },
  {
   "cell_type": "code",
   "execution_count": null,
   "metadata": {},
   "outputs": [],
   "source": []
  },
  {
   "cell_type": "code",
   "execution_count": null,
   "metadata": {},
   "outputs": [],
   "source": []
  }
 ],
 "metadata": {
  "accelerator": "GPU",
  "colab": {
   "gpuType": "T4",
   "provenance": []
  },
  "kaggle": {
   "accelerator": "gpu",
   "dataSources": [
    {
     "datasetId": 4486019,
     "sourceId": 7969605,
     "sourceType": "datasetVersion"
    }
   ],
   "dockerImageVersionId": 30683,
   "isGpuEnabled": true,
   "isInternetEnabled": true,
   "language": "python",
   "sourceType": "notebook"
  },
  "kernelspec": {
   "display_name": "Python 3 (ipykernel)",
   "language": "python",
   "name": "python3"
  },
  "language_info": {
   "codemirror_mode": {
    "name": "ipython",
    "version": 3
   },
   "file_extension": ".py",
   "mimetype": "text/x-python",
   "name": "python",
   "nbconvert_exporter": "python",
   "pygments_lexer": "ipython3",
   "version": "3.9.13"
  }
 },
 "nbformat": 4,
 "nbformat_minor": 4
}
